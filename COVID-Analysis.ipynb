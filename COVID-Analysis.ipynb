{
 "cells": [
  {
   "cell_type": "markdown",
   "metadata": {},
   "source": [
    "# COVID 19 Analysis\n"
   ]
  },
  {
   "cell_type": "markdown",
   "metadata": {},
   "source": [
    "I stole most of this from Brice R -- who did a nice job confirming exponential growth of virus confirmed cases.  See (https://ro-z.net/assets/covid19quickanalysis.html)\n",
    "\n",
    "I branched to do my own random analysis [COVID-Analysis-2.ipynb](COVID-Analysis-2.ipynb) and [COVID-USAfacts.ipynb](COVID-USAfacts.ipynb) - using finer grain state/county aggregated data from https://usafacts.org/visualizations/coronavirus-covid-19-spread-map/  \n",
    "\n",
    "Datasets for this notebook are all available on github courtesy of John Hopkins, just download via:\n",
    "-  git clone https://github.com/CSSEGISandData/COVID-19.git\n"
   ]
  },
  {
   "cell_type": "code",
   "execution_count": 42,
   "metadata": {},
   "outputs": [],
   "source": [
    "import pandas as pd\n",
    "import numpy as np\n",
    "import matplotlib.pyplot as plt\n",
    "\n",
    "drdir = 'COVID-19/csse_covid_19_data/csse_covid_19_daily_reports/'\n",
    "tsdir = 'COVID-19/csse_covid_19_data/csse_covid_19_time_series/'\n",
    "\n",
    "daily_f = drdir+'01-22-2020.csv' # 03-18-2020.csv etc\n",
    "confirmed_f = tsdir+'time_series_19-covid-Confirmed.csv'\n",
    "deaths_f = tsdir+'time_series_19-covid-Deaths.csv'\n",
    "\n",
    "dfc = pd.read_csv(confirmed_f)\n",
    "confirmed = dfc.drop(columns=['Lat','Long']).groupby( ['Country/Region']).sum().transpose()\n",
    "confirmed.index = pd.to_datetime(confirmed.index)\n",
    "\n",
    "dfd = pd.read_csv(deaths_f)\n",
    "deaths = dfd.drop(columns=['Lat','Long']).groupby( ['Country/Region']).sum().transpose()\n",
    "deaths.index = pd.to_datetime(deaths.index)\n"
   ]
  },
  {
   "cell_type": "code",
   "execution_count": 2,
   "metadata": {
    "scrolled": true
   },
   "outputs": [
    {
     "data": {
      "text/html": [
       "<div>\n",
       "<style scoped>\n",
       "    .dataframe tbody tr th:only-of-type {\n",
       "        vertical-align: middle;\n",
       "    }\n",
       "\n",
       "    .dataframe tbody tr th {\n",
       "        vertical-align: top;\n",
       "    }\n",
       "\n",
       "    .dataframe thead th {\n",
       "        text-align: right;\n",
       "    }\n",
       "</style>\n",
       "<table border=\"1\" class=\"dataframe\">\n",
       "  <thead>\n",
       "    <tr style=\"text-align: right;\">\n",
       "      <th></th>\n",
       "      <th>Province/State</th>\n",
       "      <th>Country/Region</th>\n",
       "      <th>Lat</th>\n",
       "      <th>Long</th>\n",
       "      <th>1/22/20</th>\n",
       "      <th>1/23/20</th>\n",
       "      <th>1/24/20</th>\n",
       "      <th>1/25/20</th>\n",
       "      <th>1/26/20</th>\n",
       "      <th>1/27/20</th>\n",
       "      <th>...</th>\n",
       "      <th>3/12/20</th>\n",
       "      <th>3/13/20</th>\n",
       "      <th>3/14/20</th>\n",
       "      <th>3/15/20</th>\n",
       "      <th>3/16/20</th>\n",
       "      <th>3/17/20</th>\n",
       "      <th>3/18/20</th>\n",
       "      <th>3/19/20</th>\n",
       "      <th>3/20/20</th>\n",
       "      <th>3/21/20</th>\n",
       "    </tr>\n",
       "  </thead>\n",
       "  <tbody>\n",
       "    <tr>\n",
       "      <td>0</td>\n",
       "      <td>NaN</td>\n",
       "      <td>Thailand</td>\n",
       "      <td>15.0000</td>\n",
       "      <td>101.0000</td>\n",
       "      <td>2</td>\n",
       "      <td>3</td>\n",
       "      <td>5</td>\n",
       "      <td>7</td>\n",
       "      <td>8</td>\n",
       "      <td>8</td>\n",
       "      <td>...</td>\n",
       "      <td>70</td>\n",
       "      <td>75</td>\n",
       "      <td>82</td>\n",
       "      <td>114</td>\n",
       "      <td>147</td>\n",
       "      <td>177</td>\n",
       "      <td>212</td>\n",
       "      <td>272</td>\n",
       "      <td>322</td>\n",
       "      <td>411</td>\n",
       "    </tr>\n",
       "    <tr>\n",
       "      <td>1</td>\n",
       "      <td>NaN</td>\n",
       "      <td>Japan</td>\n",
       "      <td>36.0000</td>\n",
       "      <td>138.0000</td>\n",
       "      <td>2</td>\n",
       "      <td>1</td>\n",
       "      <td>2</td>\n",
       "      <td>2</td>\n",
       "      <td>4</td>\n",
       "      <td>4</td>\n",
       "      <td>...</td>\n",
       "      <td>639</td>\n",
       "      <td>701</td>\n",
       "      <td>773</td>\n",
       "      <td>839</td>\n",
       "      <td>825</td>\n",
       "      <td>878</td>\n",
       "      <td>889</td>\n",
       "      <td>924</td>\n",
       "      <td>963</td>\n",
       "      <td>1007</td>\n",
       "    </tr>\n",
       "    <tr>\n",
       "      <td>2</td>\n",
       "      <td>NaN</td>\n",
       "      <td>Singapore</td>\n",
       "      <td>1.2833</td>\n",
       "      <td>103.8333</td>\n",
       "      <td>0</td>\n",
       "      <td>1</td>\n",
       "      <td>3</td>\n",
       "      <td>3</td>\n",
       "      <td>4</td>\n",
       "      <td>5</td>\n",
       "      <td>...</td>\n",
       "      <td>178</td>\n",
       "      <td>200</td>\n",
       "      <td>212</td>\n",
       "      <td>226</td>\n",
       "      <td>243</td>\n",
       "      <td>266</td>\n",
       "      <td>313</td>\n",
       "      <td>345</td>\n",
       "      <td>385</td>\n",
       "      <td>432</td>\n",
       "    </tr>\n",
       "    <tr>\n",
       "      <td>3</td>\n",
       "      <td>NaN</td>\n",
       "      <td>Nepal</td>\n",
       "      <td>28.1667</td>\n",
       "      <td>84.2500</td>\n",
       "      <td>0</td>\n",
       "      <td>0</td>\n",
       "      <td>0</td>\n",
       "      <td>1</td>\n",
       "      <td>1</td>\n",
       "      <td>1</td>\n",
       "      <td>...</td>\n",
       "      <td>1</td>\n",
       "      <td>1</td>\n",
       "      <td>1</td>\n",
       "      <td>1</td>\n",
       "      <td>1</td>\n",
       "      <td>1</td>\n",
       "      <td>1</td>\n",
       "      <td>1</td>\n",
       "      <td>1</td>\n",
       "      <td>1</td>\n",
       "    </tr>\n",
       "    <tr>\n",
       "      <td>4</td>\n",
       "      <td>NaN</td>\n",
       "      <td>Malaysia</td>\n",
       "      <td>2.5000</td>\n",
       "      <td>112.5000</td>\n",
       "      <td>0</td>\n",
       "      <td>0</td>\n",
       "      <td>0</td>\n",
       "      <td>3</td>\n",
       "      <td>4</td>\n",
       "      <td>4</td>\n",
       "      <td>...</td>\n",
       "      <td>149</td>\n",
       "      <td>197</td>\n",
       "      <td>238</td>\n",
       "      <td>428</td>\n",
       "      <td>566</td>\n",
       "      <td>673</td>\n",
       "      <td>790</td>\n",
       "      <td>900</td>\n",
       "      <td>1030</td>\n",
       "      <td>1183</td>\n",
       "    </tr>\n",
       "  </tbody>\n",
       "</table>\n",
       "<p>5 rows × 64 columns</p>\n",
       "</div>"
      ],
      "text/plain": [
       "  Province/State Country/Region      Lat      Long  1/22/20  1/23/20  1/24/20  \\\n",
       "0            NaN       Thailand  15.0000  101.0000        2        3        5   \n",
       "1            NaN          Japan  36.0000  138.0000        2        1        2   \n",
       "2            NaN      Singapore   1.2833  103.8333        0        1        3   \n",
       "3            NaN          Nepal  28.1667   84.2500        0        0        0   \n",
       "4            NaN       Malaysia   2.5000  112.5000        0        0        0   \n",
       "\n",
       "   1/25/20  1/26/20  1/27/20  ...  3/12/20  3/13/20  3/14/20  3/15/20  \\\n",
       "0        7        8        8  ...       70       75       82      114   \n",
       "1        2        4        4  ...      639      701      773      839   \n",
       "2        3        4        5  ...      178      200      212      226   \n",
       "3        1        1        1  ...        1        1        1        1   \n",
       "4        3        4        4  ...      149      197      238      428   \n",
       "\n",
       "   3/16/20  3/17/20  3/18/20  3/19/20  3/20/20  3/21/20  \n",
       "0      147      177      212      272      322      411  \n",
       "1      825      878      889      924      963     1007  \n",
       "2      243      266      313      345      385      432  \n",
       "3        1        1        1        1        1        1  \n",
       "4      566      673      790      900     1030     1183  \n",
       "\n",
       "[5 rows x 64 columns]"
      ]
     },
     "execution_count": 2,
     "metadata": {},
     "output_type": "execute_result"
    }
   ],
   "source": [
    "dfc.head()\n"
   ]
  },
  {
   "cell_type": "code",
   "execution_count": 43,
   "metadata": {},
   "outputs": [],
   "source": [
    "confirmed = dfc.drop(columns=['Lat','Long']).groupby( ['Country/Region']).sum().transpose()\n",
    "confirmed.index = pd.to_datetime(confirmed.index)\n",
    "\n",
    "dfd = pd.read_csv(deaths_f)\n",
    "deaths = dfd.drop(columns=['Lat','Long']).groupby( ['Country/Region']).sum().transpose()\n",
    "deaths.index = pd.to_datetime(deaths.index)\n"
   ]
  },
  {
   "cell_type": "code",
   "execution_count": 45,
   "metadata": {},
   "outputs": [
    {
     "data": {
      "text/html": [
       "<div>\n",
       "<style scoped>\n",
       "    .dataframe tbody tr th:only-of-type {\n",
       "        vertical-align: middle;\n",
       "    }\n",
       "\n",
       "    .dataframe tbody tr th {\n",
       "        vertical-align: top;\n",
       "    }\n",
       "\n",
       "    .dataframe thead th {\n",
       "        text-align: right;\n",
       "    }\n",
       "</style>\n",
       "<table border=\"1\" class=\"dataframe\">\n",
       "  <thead>\n",
       "    <tr style=\"text-align: right;\">\n",
       "      <th>Country/Region</th>\n",
       "      <th>Japan</th>\n",
       "      <th>US</th>\n",
       "      <th>Italy</th>\n",
       "      <th>Spain</th>\n",
       "      <th>France</th>\n",
       "      <th>Korea, South</th>\n",
       "    </tr>\n",
       "  </thead>\n",
       "  <tbody>\n",
       "    <tr>\n",
       "      <td>2020-03-17</td>\n",
       "      <td>878</td>\n",
       "      <td>6421</td>\n",
       "      <td>31506</td>\n",
       "      <td>11748</td>\n",
       "      <td>7699</td>\n",
       "      <td>8320</td>\n",
       "    </tr>\n",
       "    <tr>\n",
       "      <td>2020-03-18</td>\n",
       "      <td>889</td>\n",
       "      <td>7783</td>\n",
       "      <td>35713</td>\n",
       "      <td>13910</td>\n",
       "      <td>9105</td>\n",
       "      <td>8413</td>\n",
       "    </tr>\n",
       "    <tr>\n",
       "      <td>2020-03-19</td>\n",
       "      <td>924</td>\n",
       "      <td>13677</td>\n",
       "      <td>41035</td>\n",
       "      <td>17963</td>\n",
       "      <td>10947</td>\n",
       "      <td>8565</td>\n",
       "    </tr>\n",
       "    <tr>\n",
       "      <td>2020-03-20</td>\n",
       "      <td>963</td>\n",
       "      <td>19100</td>\n",
       "      <td>47021</td>\n",
       "      <td>20410</td>\n",
       "      <td>12726</td>\n",
       "      <td>8652</td>\n",
       "    </tr>\n",
       "    <tr>\n",
       "      <td>2020-03-21</td>\n",
       "      <td>1007</td>\n",
       "      <td>25489</td>\n",
       "      <td>53578</td>\n",
       "      <td>25374</td>\n",
       "      <td>14431</td>\n",
       "      <td>8799</td>\n",
       "    </tr>\n",
       "  </tbody>\n",
       "</table>\n",
       "</div>"
      ],
      "text/plain": [
       "Country/Region  Japan     US  Italy  Spain  France  Korea, South\n",
       "2020-03-17        878   6421  31506  11748    7699          8320\n",
       "2020-03-18        889   7783  35713  13910    9105          8413\n",
       "2020-03-19        924  13677  41035  17963   10947          8565\n",
       "2020-03-20        963  19100  47021  20410   12726          8652\n",
       "2020-03-21       1007  25489  53578  25374   14431          8799"
      ]
     },
     "metadata": {},
     "output_type": "display_data"
    },
    {
     "data": {
      "text/html": [
       "<div>\n",
       "<style scoped>\n",
       "    .dataframe tbody tr th:only-of-type {\n",
       "        vertical-align: middle;\n",
       "    }\n",
       "\n",
       "    .dataframe tbody tr th {\n",
       "        vertical-align: top;\n",
       "    }\n",
       "\n",
       "    .dataframe thead th {\n",
       "        text-align: right;\n",
       "    }\n",
       "</style>\n",
       "<table border=\"1\" class=\"dataframe\">\n",
       "  <thead>\n",
       "    <tr style=\"text-align: right;\">\n",
       "      <th>Country/Region</th>\n",
       "      <th>Japan</th>\n",
       "      <th>US</th>\n",
       "      <th>Italy</th>\n",
       "      <th>Spain</th>\n",
       "      <th>France</th>\n",
       "      <th>Korea, South</th>\n",
       "    </tr>\n",
       "  </thead>\n",
       "  <tbody>\n",
       "    <tr>\n",
       "      <td>2020-03-17</td>\n",
       "      <td>29</td>\n",
       "      <td>108</td>\n",
       "      <td>2503</td>\n",
       "      <td>533</td>\n",
       "      <td>148</td>\n",
       "      <td>81</td>\n",
       "    </tr>\n",
       "    <tr>\n",
       "      <td>2020-03-18</td>\n",
       "      <td>29</td>\n",
       "      <td>118</td>\n",
       "      <td>2978</td>\n",
       "      <td>623</td>\n",
       "      <td>148</td>\n",
       "      <td>84</td>\n",
       "    </tr>\n",
       "    <tr>\n",
       "      <td>2020-03-19</td>\n",
       "      <td>29</td>\n",
       "      <td>200</td>\n",
       "      <td>3405</td>\n",
       "      <td>830</td>\n",
       "      <td>243</td>\n",
       "      <td>91</td>\n",
       "    </tr>\n",
       "    <tr>\n",
       "      <td>2020-03-20</td>\n",
       "      <td>33</td>\n",
       "      <td>244</td>\n",
       "      <td>4032</td>\n",
       "      <td>1043</td>\n",
       "      <td>450</td>\n",
       "      <td>94</td>\n",
       "    </tr>\n",
       "    <tr>\n",
       "      <td>2020-03-21</td>\n",
       "      <td>35</td>\n",
       "      <td>307</td>\n",
       "      <td>4825</td>\n",
       "      <td>1375</td>\n",
       "      <td>562</td>\n",
       "      <td>102</td>\n",
       "    </tr>\n",
       "  </tbody>\n",
       "</table>\n",
       "</div>"
      ],
      "text/plain": [
       "Country/Region  Japan   US  Italy  Spain  France  Korea, South\n",
       "2020-03-17         29  108   2503    533     148            81\n",
       "2020-03-18         29  118   2978    623     148            84\n",
       "2020-03-19         29  200   3405    830     243            91\n",
       "2020-03-20         33  244   4032   1043     450            94\n",
       "2020-03-21         35  307   4825   1375     562           102"
      ]
     },
     "execution_count": 45,
     "metadata": {},
     "output_type": "execute_result"
    }
   ],
   "source": [
    "countries = [ 'Japan', 'US', 'Italy', 'Spain','France', 'Korea, South' ]\n",
    "display(confirmed[countries].tail())\n",
    "deaths[countries].tail()\n"
   ]
  },
  {
   "cell_type": "code",
   "execution_count": 6,
   "metadata": {},
   "outputs": [
    {
     "data": {
      "text/plain": [
       "<matplotlib.axes._subplots.AxesSubplot at 0x23bd4e24608>"
      ]
     },
     "execution_count": 6,
     "metadata": {},
     "output_type": "execute_result"
    },
    {
     "data": {
      "image/png": "[encoded data removed]",
      "text/plain": [
       "<Figure size 432x288 with 1 Axes>"
      ]
     },
     "metadata": {
      "needs_background": "light"
     },
     "output_type": "display_data"
    }
   ],
   "source": [
    "confirmed[ countries ].tail(20).plot()\n"
   ]
  },
  {
   "cell_type": "code",
   "execution_count": 7,
   "metadata": {
    "scrolled": true
   },
   "outputs": [
    {
     "data": {
      "text/html": [
       "<div>\n",
       "<style scoped>\n",
       "    .dataframe tbody tr th:only-of-type {\n",
       "        vertical-align: middle;\n",
       "    }\n",
       "\n",
       "    .dataframe tbody tr th {\n",
       "        vertical-align: top;\n",
       "    }\n",
       "\n",
       "    .dataframe thead th {\n",
       "        text-align: right;\n",
       "    }\n",
       "</style>\n",
       "<table border=\"1\" class=\"dataframe\">\n",
       "  <thead>\n",
       "    <tr style=\"text-align: right;\">\n",
       "      <th></th>\n",
       "      <th>Province/State</th>\n",
       "      <th>Country/Region</th>\n",
       "      <th>Lat</th>\n",
       "      <th>Long</th>\n",
       "      <th>1/22/20</th>\n",
       "      <th>1/23/20</th>\n",
       "      <th>1/24/20</th>\n",
       "      <th>1/25/20</th>\n",
       "      <th>1/26/20</th>\n",
       "      <th>1/27/20</th>\n",
       "      <th>...</th>\n",
       "      <th>3/12/20</th>\n",
       "      <th>3/13/20</th>\n",
       "      <th>3/14/20</th>\n",
       "      <th>3/15/20</th>\n",
       "      <th>3/16/20</th>\n",
       "      <th>3/17/20</th>\n",
       "      <th>3/18/20</th>\n",
       "      <th>3/19/20</th>\n",
       "      <th>3/20/20</th>\n",
       "      <th>3/21/20</th>\n",
       "    </tr>\n",
       "  </thead>\n",
       "  <tbody>\n",
       "    <tr>\n",
       "      <td>98</td>\n",
       "      <td>Washington</td>\n",
       "      <td>US</td>\n",
       "      <td>47.4009</td>\n",
       "      <td>-121.4905</td>\n",
       "      <td>0</td>\n",
       "      <td>0</td>\n",
       "      <td>0</td>\n",
       "      <td>0</td>\n",
       "      <td>0</td>\n",
       "      <td>0</td>\n",
       "      <td>...</td>\n",
       "      <td>442</td>\n",
       "      <td>568</td>\n",
       "      <td>572</td>\n",
       "      <td>643</td>\n",
       "      <td>904</td>\n",
       "      <td>1076</td>\n",
       "      <td>1014</td>\n",
       "      <td>1376</td>\n",
       "      <td>1524</td>\n",
       "      <td>1793</td>\n",
       "    </tr>\n",
       "    <tr>\n",
       "      <td>99</td>\n",
       "      <td>New York</td>\n",
       "      <td>US</td>\n",
       "      <td>42.1657</td>\n",
       "      <td>-74.9481</td>\n",
       "      <td>0</td>\n",
       "      <td>0</td>\n",
       "      <td>0</td>\n",
       "      <td>0</td>\n",
       "      <td>0</td>\n",
       "      <td>0</td>\n",
       "      <td>...</td>\n",
       "      <td>328</td>\n",
       "      <td>421</td>\n",
       "      <td>525</td>\n",
       "      <td>732</td>\n",
       "      <td>967</td>\n",
       "      <td>1706</td>\n",
       "      <td>2495</td>\n",
       "      <td>5365</td>\n",
       "      <td>8310</td>\n",
       "      <td>11710</td>\n",
       "    </tr>\n",
       "    <tr>\n",
       "      <td>100</td>\n",
       "      <td>California</td>\n",
       "      <td>US</td>\n",
       "      <td>36.1162</td>\n",
       "      <td>-119.6816</td>\n",
       "      <td>0</td>\n",
       "      <td>0</td>\n",
       "      <td>0</td>\n",
       "      <td>0</td>\n",
       "      <td>0</td>\n",
       "      <td>0</td>\n",
       "      <td>...</td>\n",
       "      <td>221</td>\n",
       "      <td>282</td>\n",
       "      <td>340</td>\n",
       "      <td>426</td>\n",
       "      <td>557</td>\n",
       "      <td>698</td>\n",
       "      <td>751</td>\n",
       "      <td>952</td>\n",
       "      <td>1177</td>\n",
       "      <td>1364</td>\n",
       "    </tr>\n",
       "    <tr>\n",
       "      <td>101</td>\n",
       "      <td>Massachusetts</td>\n",
       "      <td>US</td>\n",
       "      <td>42.2302</td>\n",
       "      <td>-71.5301</td>\n",
       "      <td>0</td>\n",
       "      <td>0</td>\n",
       "      <td>0</td>\n",
       "      <td>0</td>\n",
       "      <td>0</td>\n",
       "      <td>0</td>\n",
       "      <td>...</td>\n",
       "      <td>108</td>\n",
       "      <td>123</td>\n",
       "      <td>138</td>\n",
       "      <td>164</td>\n",
       "      <td>197</td>\n",
       "      <td>218</td>\n",
       "      <td>218</td>\n",
       "      <td>328</td>\n",
       "      <td>413</td>\n",
       "      <td>525</td>\n",
       "    </tr>\n",
       "    <tr>\n",
       "      <td>102</td>\n",
       "      <td>Diamond Princess</td>\n",
       "      <td>US</td>\n",
       "      <td>35.4437</td>\n",
       "      <td>139.6380</td>\n",
       "      <td>0</td>\n",
       "      <td>0</td>\n",
       "      <td>0</td>\n",
       "      <td>0</td>\n",
       "      <td>0</td>\n",
       "      <td>0</td>\n",
       "      <td>...</td>\n",
       "      <td>46</td>\n",
       "      <td>46</td>\n",
       "      <td>46</td>\n",
       "      <td>46</td>\n",
       "      <td>47</td>\n",
       "      <td>47</td>\n",
       "      <td>47</td>\n",
       "      <td>47</td>\n",
       "      <td>49</td>\n",
       "      <td>49</td>\n",
       "    </tr>\n",
       "  </tbody>\n",
       "</table>\n",
       "<p>5 rows × 64 columns</p>\n",
       "</div>"
      ],
      "text/plain": [
       "       Province/State Country/Region      Lat      Long  1/22/20  1/23/20  \\\n",
       "98         Washington             US  47.4009 -121.4905        0        0   \n",
       "99           New York             US  42.1657  -74.9481        0        0   \n",
       "100        California             US  36.1162 -119.6816        0        0   \n",
       "101     Massachusetts             US  42.2302  -71.5301        0        0   \n",
       "102  Diamond Princess             US  35.4437  139.6380        0        0   \n",
       "\n",
       "     1/24/20  1/25/20  1/26/20  1/27/20  ...  3/12/20  3/13/20  3/14/20  \\\n",
       "98         0        0        0        0  ...      442      568      572   \n",
       "99         0        0        0        0  ...      328      421      525   \n",
       "100        0        0        0        0  ...      221      282      340   \n",
       "101        0        0        0        0  ...      108      123      138   \n",
       "102        0        0        0        0  ...       46       46       46   \n",
       "\n",
       "     3/15/20  3/16/20  3/17/20  3/18/20  3/19/20  3/20/20  3/21/20  \n",
       "98       643      904     1076     1014     1376     1524     1793  \n",
       "99       732      967     1706     2495     5365     8310    11710  \n",
       "100      426      557      698      751      952     1177     1364  \n",
       "101      164      197      218      218      328      413      525  \n",
       "102       46       47       47       47       47       49       49  \n",
       "\n",
       "[5 rows x 64 columns]"
      ]
     },
     "execution_count": 7,
     "metadata": {},
     "output_type": "execute_result"
    }
   ],
   "source": [
    "confirmed_us = dfc[ dfc['Country/Region'] == 'US']\n",
    "confirmed_us.head()\n"
   ]
  },
  {
   "cell_type": "code",
   "execution_count": 8,
   "metadata": {},
   "outputs": [
    {
     "data": {
      "text/plain": [
       "['North Carolina', 'Camden, NC', 'Chatham County, NC', 'Wake County, NC']"
      ]
     },
     "execution_count": 8,
     "metadata": {},
     "output_type": "execute_result"
    }
   ],
   "source": [
    "confirmed_us = dfc[ dfc['Country/Region'] == 'US']\n",
    "states = [x for x in list(confirmed_us['Province/State']) if 'NC' in x or 'North Carolina' in x]\n",
    "states\n"
   ]
  },
  {
   "cell_type": "code",
   "execution_count": 9,
   "metadata": {
    "scrolled": true
   },
   "outputs": [
    {
     "data": {
      "text/html": [
       "<div>\n",
       "<style scoped>\n",
       "    .dataframe tbody tr th:only-of-type {\n",
       "        vertical-align: middle;\n",
       "    }\n",
       "\n",
       "    .dataframe tbody tr th {\n",
       "        vertical-align: top;\n",
       "    }\n",
       "\n",
       "    .dataframe thead th {\n",
       "        text-align: right;\n",
       "    }\n",
       "</style>\n",
       "<table border=\"1\" class=\"dataframe\">\n",
       "  <thead>\n",
       "    <tr style=\"text-align: right;\">\n",
       "      <th>Province/State</th>\n",
       "      <th>North Carolina</th>\n",
       "    </tr>\n",
       "  </thead>\n",
       "  <tbody>\n",
       "    <tr>\n",
       "      <td>3/17/20</td>\n",
       "      <td>64</td>\n",
       "    </tr>\n",
       "    <tr>\n",
       "      <td>3/18/20</td>\n",
       "      <td>70</td>\n",
       "    </tr>\n",
       "    <tr>\n",
       "      <td>3/19/20</td>\n",
       "      <td>123</td>\n",
       "    </tr>\n",
       "    <tr>\n",
       "      <td>3/20/20</td>\n",
       "      <td>172</td>\n",
       "    </tr>\n",
       "    <tr>\n",
       "      <td>3/21/20</td>\n",
       "      <td>253</td>\n",
       "    </tr>\n",
       "  </tbody>\n",
       "</table>\n",
       "</div>"
      ],
      "text/plain": [
       "Province/State  North Carolina\n",
       "3/17/20                     64\n",
       "3/18/20                     70\n",
       "3/19/20                    123\n",
       "3/20/20                    172\n",
       "3/21/20                    253"
      ]
     },
     "execution_count": 9,
     "metadata": {},
     "output_type": "execute_result"
    }
   ],
   "source": [
    "# merge to NC\n",
    "nc1 = confirmed_us[confirmed_us['Province/State'].isin( states )].drop(columns=['Lat', 'Long'])\n",
    "nc1[ 'Province/State' ] = 'North Carolina'\n",
    "nc = nc1.groupby( 'Province/State' ).sum().transpose()\n",
    "nc.tail()"
   ]
  },
  {
   "cell_type": "code",
   "execution_count": 10,
   "metadata": {},
   "outputs": [],
   "source": [
    "def FindState(df, statefull, stateshort):\n",
    "    states = [x for x in list(df['Province/State']) if stateshort in x or statefull == x]\n",
    "    return states\n",
    "    \n",
    "\n",
    "def ExtractState(df, statefull, stateshort):\n",
    "    states = FindState(df,statefull,stateshort)\n",
    "    pre = df[ df[ 'Province/State'].isin(states)].drop(columns=['Lat','Long'])\n",
    "    pre['Province/State'] = statefull\n",
    "    return pre.groupby('Province/State').sum().transpose()"
   ]
  },
  {
   "cell_type": "code",
   "execution_count": 11,
   "metadata": {
    "scrolled": true
   },
   "outputs": [
    {
     "data": {
      "text/plain": [
       "['Texas',\n",
       " 'Gregg, TX',\n",
       " 'Collin County, TX',\n",
       " 'Fort Bend County, TX',\n",
       " 'Harris County, TX',\n",
       " 'Dallas, TX',\n",
       " 'Tarrant, TX',\n",
       " 'Montgomery, TX']"
      ]
     },
     "execution_count": 11,
     "metadata": {},
     "output_type": "execute_result"
    }
   ],
   "source": [
    "FindState(confirmed_us, 'Texas', 'TX')\n"
   ]
  },
  {
   "cell_type": "code",
   "execution_count": 12,
   "metadata": {
    "scrolled": true
   },
   "outputs": [
    {
     "data": {
      "text/html": [
       "<div>\n",
       "<style scoped>\n",
       "    .dataframe tbody tr th:only-of-type {\n",
       "        vertical-align: middle;\n",
       "    }\n",
       "\n",
       "    .dataframe tbody tr th {\n",
       "        vertical-align: top;\n",
       "    }\n",
       "\n",
       "    .dataframe thead th {\n",
       "        text-align: right;\n",
       "    }\n",
       "</style>\n",
       "<table border=\"1\" class=\"dataframe\">\n",
       "  <thead>\n",
       "    <tr style=\"text-align: right;\">\n",
       "      <th>Province/State</th>\n",
       "      <th>Texas</th>\n",
       "      <th>New York</th>\n",
       "      <th>California</th>\n",
       "      <th>North Carolina</th>\n",
       "      <th>Japan</th>\n",
       "      <th>Spain</th>\n",
       "      <th>Italy</th>\n",
       "      <th>France</th>\n",
       "      <th>Korea, South</th>\n",
       "      <th>US</th>\n",
       "    </tr>\n",
       "  </thead>\n",
       "  <tbody>\n",
       "    <tr>\n",
       "      <td>3/17/20</td>\n",
       "      <td>110</td>\n",
       "      <td>1706</td>\n",
       "      <td>698</td>\n",
       "      <td>64</td>\n",
       "      <td>878</td>\n",
       "      <td>11748</td>\n",
       "      <td>31506</td>\n",
       "      <td>7699</td>\n",
       "      <td>8320</td>\n",
       "      <td>6421</td>\n",
       "    </tr>\n",
       "    <tr>\n",
       "      <td>3/18/20</td>\n",
       "      <td>173</td>\n",
       "      <td>2495</td>\n",
       "      <td>751</td>\n",
       "      <td>70</td>\n",
       "      <td>889</td>\n",
       "      <td>13910</td>\n",
       "      <td>35713</td>\n",
       "      <td>9105</td>\n",
       "      <td>8413</td>\n",
       "      <td>7783</td>\n",
       "    </tr>\n",
       "    <tr>\n",
       "      <td>3/19/20</td>\n",
       "      <td>260</td>\n",
       "      <td>5365</td>\n",
       "      <td>952</td>\n",
       "      <td>123</td>\n",
       "      <td>924</td>\n",
       "      <td>17963</td>\n",
       "      <td>41035</td>\n",
       "      <td>10947</td>\n",
       "      <td>8565</td>\n",
       "      <td>13677</td>\n",
       "    </tr>\n",
       "    <tr>\n",
       "      <td>3/20/20</td>\n",
       "      <td>394</td>\n",
       "      <td>8310</td>\n",
       "      <td>1177</td>\n",
       "      <td>172</td>\n",
       "      <td>963</td>\n",
       "      <td>20410</td>\n",
       "      <td>47021</td>\n",
       "      <td>12726</td>\n",
       "      <td>8652</td>\n",
       "      <td>19100</td>\n",
       "    </tr>\n",
       "    <tr>\n",
       "      <td>3/21/20</td>\n",
       "      <td>581</td>\n",
       "      <td>11710</td>\n",
       "      <td>1364</td>\n",
       "      <td>253</td>\n",
       "      <td>1007</td>\n",
       "      <td>25374</td>\n",
       "      <td>53578</td>\n",
       "      <td>14431</td>\n",
       "      <td>8799</td>\n",
       "      <td>25489</td>\n",
       "    </tr>\n",
       "  </tbody>\n",
       "</table>\n",
       "</div>"
      ],
      "text/plain": [
       "Province/State  Texas  New York  California  North Carolina  Japan  Spain  \\\n",
       "3/17/20           110      1706         698              64    878  11748   \n",
       "3/18/20           173      2495         751              70    889  13910   \n",
       "3/19/20           260      5365         952             123    924  17963   \n",
       "3/20/20           394      8310        1177             172    963  20410   \n",
       "3/21/20           581     11710        1364             253   1007  25374   \n",
       "\n",
       "Province/State  Italy  France  Korea, South     US  \n",
       "3/17/20         31506    7699          8320   6421  \n",
       "3/18/20         35713    9105          8413   7783  \n",
       "3/19/20         41035   10947          8565  13677  \n",
       "3/20/20         47021   12726          8652  19100  \n",
       "3/21/20         53578   14431          8799  25489  "
      ]
     },
     "execution_count": 12,
     "metadata": {},
     "output_type": "execute_result"
    }
   ],
   "source": [
    "confirmed_st = ExtractState(confirmed_us, 'Texas', 'TX')\n",
    "confirmed_st['New York'] = ExtractState(confirmed_us, 'New York', 'NY')\n",
    "confirmed_st['California'] = ExtractState(confirmed_us, 'California', 'CA')\n",
    "confirmed_st['North Carolina'] = ExtractState(confirmed_us, 'North Carolina', 'NC')\n",
    "\n",
    "confirmed_st['Japan'] = confirmed['Japan']\n",
    "confirmed_st['Spain'] = confirmed['Spain']\n",
    "confirmed_st['Italy'] = confirmed['Italy']\n",
    "confirmed_st['France'] = confirmed['France']\n",
    "confirmed_st['Korea, South'] = confirmed['Korea, South']\n",
    "confirmed_st['US'] = confirmed['US']\n",
    "\n",
    "confirmed_st.tail()"
   ]
  },
  {
   "cell_type": "code",
   "execution_count": 13,
   "metadata": {},
   "outputs": [
    {
     "data": {
      "text/plain": [
       "<matplotlib.axes._subplots.AxesSubplot at 0x23bd5295d88>"
      ]
     },
     "execution_count": 13,
     "metadata": {},
     "output_type": "execute_result"
    },
    {
     "data": {
      "image/png": "[encoded data removed]",
      "text/plain": [
       "<Figure size 432x288 with 1 Axes>"
      ]
     },
     "metadata": {
      "needs_background": "light"
     },
     "output_type": "display_data"
    }
   ],
   "source": [
    "confirmed_st.tail(20).plot()\n"
   ]
  },
  {
   "cell_type": "code",
   "execution_count": 14,
   "metadata": {},
   "outputs": [
    {
     "data": {
      "text/plain": [
       "<matplotlib.axes._subplots.AxesSubplot at 0x23bd534f088>"
      ]
     },
     "execution_count": 14,
     "metadata": {},
     "output_type": "execute_result"
    },
    {
     "data": {
      "image/png": "[encoded data removed]",
      "text/plain": [
       "<Figure size 432x288 with 1 Axes>"
      ]
     },
     "metadata": {
      "needs_background": "light"
     },
     "output_type": "display_data"
    }
   ],
   "source": [
    "confirmed_st.apply(np.log).tail(15).plot()\n"
   ]
  },
  {
   "cell_type": "code",
   "execution_count": 15,
   "metadata": {},
   "outputs": [
    {
     "data": {
      "text/html": [
       "<div>\n",
       "<style scoped>\n",
       "    .dataframe tbody tr th:only-of-type {\n",
       "        vertical-align: middle;\n",
       "    }\n",
       "\n",
       "    .dataframe tbody tr th {\n",
       "        vertical-align: top;\n",
       "    }\n",
       "\n",
       "    .dataframe thead th {\n",
       "        text-align: right;\n",
       "    }\n",
       "</style>\n",
       "<table border=\"1\" class=\"dataframe\">\n",
       "  <thead>\n",
       "    <tr style=\"text-align: right;\">\n",
       "      <th>Province/State</th>\n",
       "      <th>Texas</th>\n",
       "      <th>New York</th>\n",
       "      <th>California</th>\n",
       "      <th>North Carolina</th>\n",
       "      <th>Japan</th>\n",
       "      <th>Spain</th>\n",
       "      <th>Italy</th>\n",
       "      <th>France</th>\n",
       "      <th>Korea, South</th>\n",
       "      <th>US</th>\n",
       "    </tr>\n",
       "  </thead>\n",
       "  <tbody>\n",
       "    <tr>\n",
       "      <td>3/12/20</td>\n",
       "      <td>3.295837</td>\n",
       "      <td>5.793014</td>\n",
       "      <td>5.398163</td>\n",
       "      <td>2.708050</td>\n",
       "      <td>6.459904</td>\n",
       "      <td>7.730614</td>\n",
       "      <td>9.430439</td>\n",
       "      <td>7.736307</td>\n",
       "      <td>8.970686</td>\n",
       "      <td>7.416378</td>\n",
       "    </tr>\n",
       "    <tr>\n",
       "      <td>3/13/20</td>\n",
       "      <td>3.761200</td>\n",
       "      <td>6.042633</td>\n",
       "      <td>5.641907</td>\n",
       "      <td>2.833213</td>\n",
       "      <td>6.552508</td>\n",
       "      <td>8.562549</td>\n",
       "      <td>9.779057</td>\n",
       "      <td>8.210124</td>\n",
       "      <td>8.984568</td>\n",
       "      <td>7.686621</td>\n",
       "    </tr>\n",
       "    <tr>\n",
       "      <td>3/14/20</td>\n",
       "      <td>4.043051</td>\n",
       "      <td>6.263398</td>\n",
       "      <td>5.828946</td>\n",
       "      <td>3.178054</td>\n",
       "      <td>6.650279</td>\n",
       "      <td>8.762646</td>\n",
       "      <td>9.959726</td>\n",
       "      <td>8.408940</td>\n",
       "      <td>8.997889</td>\n",
       "      <td>7.910957</td>\n",
       "    </tr>\n",
       "    <tr>\n",
       "      <td>3/15/20</td>\n",
       "      <td>4.276666</td>\n",
       "      <td>6.595781</td>\n",
       "      <td>6.054439</td>\n",
       "      <td>3.496508</td>\n",
       "      <td>6.732211</td>\n",
       "      <td>8.961623</td>\n",
       "      <td>10.116460</td>\n",
       "      <td>8.416931</td>\n",
       "      <td>9.007245</td>\n",
       "      <td>8.160232</td>\n",
       "    </tr>\n",
       "    <tr>\n",
       "      <td>3/16/20</td>\n",
       "      <td>4.442651</td>\n",
       "      <td>6.874198</td>\n",
       "      <td>6.322565</td>\n",
       "      <td>3.637586</td>\n",
       "      <td>6.715383</td>\n",
       "      <td>9.204523</td>\n",
       "      <td>10.239245</td>\n",
       "      <td>8.805075</td>\n",
       "      <td>9.016270</td>\n",
       "      <td>8.440744</td>\n",
       "    </tr>\n",
       "    <tr>\n",
       "      <td>3/17/20</td>\n",
       "      <td>4.700480</td>\n",
       "      <td>7.441907</td>\n",
       "      <td>6.548219</td>\n",
       "      <td>4.158883</td>\n",
       "      <td>6.777647</td>\n",
       "      <td>9.371438</td>\n",
       "      <td>10.357933</td>\n",
       "      <td>8.948846</td>\n",
       "      <td>9.026418</td>\n",
       "      <td>8.767329</td>\n",
       "    </tr>\n",
       "    <tr>\n",
       "      <td>3/18/20</td>\n",
       "      <td>5.153292</td>\n",
       "      <td>7.822044</td>\n",
       "      <td>6.621406</td>\n",
       "      <td>4.248495</td>\n",
       "      <td>6.790097</td>\n",
       "      <td>9.540363</td>\n",
       "      <td>10.483270</td>\n",
       "      <td>9.116579</td>\n",
       "      <td>9.037533</td>\n",
       "      <td>8.959697</td>\n",
       "    </tr>\n",
       "    <tr>\n",
       "      <td>3/19/20</td>\n",
       "      <td>5.560682</td>\n",
       "      <td>8.587652</td>\n",
       "      <td>6.858565</td>\n",
       "      <td>4.812184</td>\n",
       "      <td>6.828712</td>\n",
       "      <td>9.796069</td>\n",
       "      <td>10.622181</td>\n",
       "      <td>9.300821</td>\n",
       "      <td>9.055439</td>\n",
       "      <td>9.523471</td>\n",
       "    </tr>\n",
       "    <tr>\n",
       "      <td>3/20/20</td>\n",
       "      <td>5.976351</td>\n",
       "      <td>9.025215</td>\n",
       "      <td>7.070724</td>\n",
       "      <td>5.147494</td>\n",
       "      <td>6.870053</td>\n",
       "      <td>9.923780</td>\n",
       "      <td>10.758350</td>\n",
       "      <td>9.451402</td>\n",
       "      <td>9.065546</td>\n",
       "      <td>9.857444</td>\n",
       "    </tr>\n",
       "    <tr>\n",
       "      <td>3/21/20</td>\n",
       "      <td>6.364751</td>\n",
       "      <td>9.368198</td>\n",
       "      <td>7.218177</td>\n",
       "      <td>5.533389</td>\n",
       "      <td>6.914731</td>\n",
       "      <td>10.141480</td>\n",
       "      <td>10.888894</td>\n",
       "      <td>9.577134</td>\n",
       "      <td>9.082393</td>\n",
       "      <td>10.146002</td>\n",
       "    </tr>\n",
       "  </tbody>\n",
       "</table>\n",
       "</div>"
      ],
      "text/plain": [
       "Province/State     Texas  New York  California  North Carolina     Japan  \\\n",
       "3/12/20         3.295837  5.793014    5.398163        2.708050  6.459904   \n",
       "3/13/20         3.761200  6.042633    5.641907        2.833213  6.552508   \n",
       "3/14/20         4.043051  6.263398    5.828946        3.178054  6.650279   \n",
       "3/15/20         4.276666  6.595781    6.054439        3.496508  6.732211   \n",
       "3/16/20         4.442651  6.874198    6.322565        3.637586  6.715383   \n",
       "3/17/20         4.700480  7.441907    6.548219        4.158883  6.777647   \n",
       "3/18/20         5.153292  7.822044    6.621406        4.248495  6.790097   \n",
       "3/19/20         5.560682  8.587652    6.858565        4.812184  6.828712   \n",
       "3/20/20         5.976351  9.025215    7.070724        5.147494  6.870053   \n",
       "3/21/20         6.364751  9.368198    7.218177        5.533389  6.914731   \n",
       "\n",
       "Province/State      Spain      Italy    France  Korea, South         US  \n",
       "3/12/20          7.730614   9.430439  7.736307      8.970686   7.416378  \n",
       "3/13/20          8.562549   9.779057  8.210124      8.984568   7.686621  \n",
       "3/14/20          8.762646   9.959726  8.408940      8.997889   7.910957  \n",
       "3/15/20          8.961623  10.116460  8.416931      9.007245   8.160232  \n",
       "3/16/20          9.204523  10.239245  8.805075      9.016270   8.440744  \n",
       "3/17/20          9.371438  10.357933  8.948846      9.026418   8.767329  \n",
       "3/18/20          9.540363  10.483270  9.116579      9.037533   8.959697  \n",
       "3/19/20          9.796069  10.622181  9.300821      9.055439   9.523471  \n",
       "3/20/20          9.923780  10.758350  9.451402      9.065546   9.857444  \n",
       "3/21/20         10.141480  10.888894  9.577134      9.082393  10.146002  "
      ]
     },
     "execution_count": 15,
     "metadata": {},
     "output_type": "execute_result"
    }
   ],
   "source": [
    "confirmed_st.apply(np.log).tail(10)\n"
   ]
  },
  {
   "cell_type": "code",
   "execution_count": 41,
   "metadata": {},
   "outputs": [
    {
     "data": {
      "image/png": "[encoded data removed]",
      "text/plain": [
       "<Figure size 432x288 with 1 Axes>"
      ]
     },
     "metadata": {
      "needs_background": "light"
     },
     "output_type": "display_data"
    },
    {
     "data": {
      "image/png": "[encoded data removed]",
      "text/plain": [
       "<Figure size 432x288 with 1 Axes>"
      ]
     },
     "metadata": {
      "needs_background": "light"
     },
     "output_type": "display_data"
    }
   ],
   "source": [
    "def fit_model(df, which, n):\n",
    "    x = np.arange(n)\n",
    "    y = df.tail(n)[which].values\n",
    "\n",
    "    reg = np.polyfit( x,y,2 )\n",
    "    fit_fn = np.poly1d(reg)\n",
    "\n",
    "    plt.plot(x, (y) )\n",
    "    plt.plot(x, (fit_fn(x) ) )\n",
    "\n",
    "    plt.title('{} {}'.format(which, reg))\n",
    "\n",
    "def fit_log_model(df, which, n):\n",
    "    df.index = pd.to_datetime(confirmed_st.index)\n",
    "\n",
    "    logdf = df.apply(np.log).tail(n)\n",
    "\n",
    "    x = np.arange(n)\n",
    "    y = logdf[which].values\n",
    "\n",
    "    reg = np.polyfit( x,y,1 )\n",
    "    fit_fn = np.poly1d(reg)\n",
    "\n",
    "    plt.plot(x, np.exp(y) )\n",
    "    plt.plot(x, np.exp(fit_fn(x) ) )\n",
    "    plt.title('{} {}'.format(which, reg))\n",
    "    \n",
    "fit_model(confirmed_st, 'New York', 10)\n",
    "plt.show()\n",
    "fit_log_model(confirmed_st, 'New York', 10)\n",
    "plt.show()"
   ]
  },
  {
   "cell_type": "markdown",
   "metadata": {},
   "source": [
    "Maybe easier to just look at a slope rather than a quadratic.  As of 3/21 -- NY is steepest, Italy is slowing."
   ]
  },
  {
   "cell_type": "code",
   "execution_count": 40,
   "metadata": {},
   "outputs": [
    {
     "data": {
      "image/png": "[encoded data removed]",
      "text/plain": [
       "<Figure size 432x288 with 1 Axes>"
      ]
     },
     "metadata": {
      "needs_background": "light"
     },
     "output_type": "display_data"
    },
    {
     "data": {
      "image/png": "[encoded data removed]",
      "text/plain": [
       "<Figure size 432x288 with 1 Axes>"
      ]
     },
     "metadata": {
      "needs_background": "light"
     },
     "output_type": "display_data"
    },
    {
     "data": {
      "image/png": "[encoded data removed]",
      "text/plain": [
       "<Figure size 432x288 with 1 Axes>"
      ]
     },
     "metadata": {
      "needs_background": "light"
     },
     "output_type": "display_data"
    },
    {
     "data": {
      "image/png": "[encoded data removed]",
      "text/plain": [
       "<Figure size 432x288 with 1 Axes>"
      ]
     },
     "metadata": {
      "needs_background": "light"
     },
     "output_type": "display_data"
    },
    {
     "data": {
      "image/png": "[encoded data removed]",
      "text/plain": [
       "<Figure size 432x288 with 1 Axes>"
      ]
     },
     "metadata": {
      "needs_background": "light"
     },
     "output_type": "display_data"
    }
   ],
   "source": [
    "\n",
    "fit_log_model(confirmed_st, 'New York', 10)\n",
    "plt.show()\n",
    "fit_log_model(confirmed_st, 'North Carolina', 10)\n",
    "plt.show()\n",
    "fit_log_model(confirmed_st, 'California', 10)\n",
    "plt.show()\n",
    "fit_log_model(confirmed_st, 'Spain', 10)\n",
    "plt.show()\n",
    "fit_log_model(confirmed_st, 'Italy', 10)\n",
    "plt.show()"
   ]
  }
 ],
 "metadata": {
  "kernelspec": {
   "display_name": "Python 3",
   "language": "python",
   "name": "python3"
  },
  "language_info": {
   "codemirror_mode": {
    "name": "ipython",
    "version": 3
   },
   "file_extension": ".py",
   "mimetype": "text/x-python",
   "name": "python",
   "nbconvert_exporter": "python",
   "pygments_lexer": "ipython3",
   "version": "3.7.4"
  }
 },
 "nbformat": 4,
 "nbformat_minor": 2
}
